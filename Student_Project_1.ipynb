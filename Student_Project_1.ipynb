{
  "nbformat": 4,
  "nbformat_minor": 0,
  "metadata": {
    "colab": {
      "provenance": []
    },
    "kernelspec": {
      "name": "python3",
      "display_name": "Python 3"
    },
    "language_info": {
      "name": "python"
    }
  },
  "cells": [
    {
      "cell_type": "markdown",
      "source": [
        "# Reading Data"
      ],
      "metadata": {
        "id": "GWi3a1OQZwKf"
      }
    },
    {
      "cell_type": "code",
      "source": [
        "import csv\n",
        "\n",
        "# csv file name\n",
        "filename = \"/content/Studetns_project - Sheet1.csv\"\n",
        "\n",
        "# initializing the titles and rows list\n",
        "fields = []\n",
        "rows = []\n",
        "\n",
        "# reading csv file\n",
        "with open(filename, 'r') as csvfile:\n",
        "  # creating a csv reader object\n",
        "  csvreader = csv.reader(csvfile)\n",
        "\n",
        "  # extracting field names through first row\n",
        "  fields = next(csvreader)\n",
        "\n",
        "  # extracting each data row one by one\n",
        "  for row in csvreader:\n",
        "    rows.append(row)\n",
        "\n",
        "  # get total number of rows\n",
        "  print(f'Total no. of rows: {csvreader.line_num}')\n",
        "  # sanity check\n",
        "for r in rows:\n",
        "  print(r)\n",
        "print(fields)\n",
        "print(rows)\n",
        "print(len(rows))"
      ],
      "metadata": {
        "colab": {
          "base_uri": "https://localhost:8080/"
        },
        "id": "EKw-US5KZriE",
        "outputId": "f91f2abf-7bdf-438a-9680-24dd77760bb5"
      },
      "execution_count": null,
      "outputs": [
        {
          "output_type": "stream",
          "name": "stdout",
          "text": [
            "Total no. of rows: 5\n",
            "['Sim', 'Foo', 's.foo@school.edu', '100', '80', '95', '92']\n",
            "['Ahmad', 'Hamdan', 'a.hamdan@school.edu', '80', '75', '87', '50']\n",
            "['James', 'Willson', 'j.willson@school.edu', '72', '84', '93', '67']\n",
            "['Mark', 'Cuban', 'm.cuban@school.edu', '63', '81', '99', '73']\n",
            "['Name', 'Last name ', 'Email', 'Math', 'Physics', 'IT', 'English']\n",
            "[['Sim', 'Foo', 's.foo@school.edu', '100', '80', '95', '92'], ['Ahmad', 'Hamdan', 'a.hamdan@school.edu', '80', '75', '87', '50'], ['James', 'Willson', 'j.willson@school.edu', '72', '84', '93', '67'], ['Mark', 'Cuban', 'm.cuban@school.edu', '63', '81', '99', '73']]\n",
            "4\n"
          ]
        }
      ]
    },
    {
      "cell_type": "markdown",
      "source": [
        "# Failed Students\n",
        "students whose marks are below 50"
      ],
      "metadata": {
        "id": "GT7AKl7UiNMw"
      }
    },
    {
      "cell_type": "code",
      "source": [
        "def index(fields, course):\n",
        "  for i in range(0,(len(fields))):\n",
        "    if course.lower() == fields[i].lower():\n",
        "      return i\n",
        "  return None\n",
        "\n",
        "def fail(rows,course):\n",
        "  fail = 0\n",
        "  i = index(fields,course)\n",
        "  if i != None:\n",
        "    for r in rows:\n",
        "      if r[i].isnumeric():\n",
        "        if float(r[i]) < 50:\n",
        "          fail += 1\n",
        "  return fail\n",
        "\n",
        "print(fail(rows,\"mAtH\"))"
      ],
      "metadata": {
        "colab": {
          "base_uri": "https://localhost:8080/"
        },
        "id": "johoL-ytjK2V",
        "outputId": "fe9d7e18-8cb9-406a-e5b2-8470bb069940"
      },
      "execution_count": null,
      "outputs": [
        {
          "output_type": "stream",
          "name": "stdout",
          "text": [
            "0\n"
          ]
        }
      ]
    },
    {
      "cell_type": "markdown",
      "source": [
        "## Failed Students(Names)\n",
        "a function to show a list of student names who failed a given course"
      ],
      "metadata": {
        "id": "Xm2Ox4OIgCCs"
      }
    },
    {
      "cell_type": "code",
      "source": [
        "def index(fields, course):\n",
        "  for i in range(0,(len(fields))):\n",
        "    if course.lower() == fields[i].lower():\n",
        "      return i\n",
        "  return None\n",
        "\n",
        "def fail2(rows,course):\n",
        "  fail1 = []\n",
        "  i = index(fields,course)\n",
        "  first_name_index = index(fields,\"name\")\n",
        "  last_name_index = index(fields,\"last name \")\n",
        "  if i != None:\n",
        "    for r in rows:\n",
        "      name = r[first_name_index] +' '+ r[last_name_index]\n",
        "      if r[i].isnumeric():\n",
        "        if float(r[i]) <80 :\n",
        "          fail1.append([name, float(r[i])])\n",
        "  return fail1\n",
        "print(fail2(rows,\"MaTh\"))\n"
      ],
      "metadata": {
        "colab": {
          "base_uri": "https://localhost:8080/"
        },
        "id": "ZGowkHo_gL5P",
        "outputId": "29473f9c-7cf8-4816-97c1-01db2745576f"
      },
      "execution_count": null,
      "outputs": [
        {
          "output_type": "stream",
          "name": "stdout",
          "text": [
            "[['James Willson', 72.0], ['Mark Cuban', 63.0]]\n"
          ]
        }
      ]
    },
    {
      "cell_type": "markdown",
      "source": [
        "## Highest and lowest scoring students\n",
        "this function finds the highest and lowest grades for a given course!"
      ],
      "metadata": {
        "id": "whaiInNTJLGQ"
      }
    },
    {
      "cell_type": "code",
      "source": [
        "def index(fields, course):\n",
        "  for i in range(0,(len(fields))):\n",
        "   if course.lower() == fields[i].lower():\n",
        "    return i\n",
        "  return None\n",
        "\n",
        "def high_low(rows, course):\n",
        "  res = []\n",
        "  high = 0.0\n",
        "  low = 100.0\n",
        "  first_name_index = index(fields,\"name\")\n",
        "  last_name_index = index(fields,\"last name \")\n",
        "  i = index(fields,course)\n",
        "  if i != None:\n",
        "    for r in rows:\n",
        "      name = r[first_name_index] +' '+ r[last_name_index]\n",
        "      if float(r[i]) < low:\n",
        "        low = float(r[i])\n",
        "      elif float(r[i]) > high:\n",
        "        high = float(r[i])\n",
        "    res.append(high)\n",
        "    res.append(low)\n",
        "  return res\n",
        "\n",
        "def names_from_grade(rows, grade, course):\n",
        "  names = []\n",
        "  i = index(fields,course)\n",
        "  first_name_index = index(fields,\"name\")\n",
        "  last_name_index = index(fields,\"last name \")\n",
        "  if i != None:\n",
        "    for r in rows:\n",
        "      if float(r[i]) == grade:\n",
        "        name = r[first_name_index] +' '+ r[last_name_index]\n",
        "        names.append(name)\n",
        "    return names\n",
        "  return 'No student got this grade'\n",
        "\n",
        "grades_list = high_low(rows, \"MaTh\") ##<--CHANGE SUBJECT OR COURSE HERE :)\n",
        "print(names_from_grade(rows, grades_list[0], 'Math'), 'Got the highest grade')\n",
        "print(names_from_grade(rows, grades_list[1], 'Math'), 'Got the lowest grade')\n",
        "print(high_low(rows, \"MaTh\"))"
      ],
      "metadata": {
        "colab": {
          "base_uri": "https://localhost:8080/"
        },
        "id": "_ft9e6_BJWOO",
        "outputId": "3967f6da-8da2-46b5-8558-9bba59ccb337"
      },
      "execution_count": null,
      "outputs": [
        {
          "output_type": "stream",
          "name": "stdout",
          "text": [
            "['Sim Foo'] Got the highest grade\n",
            "['Mark Cuban'] Got the lowest grade\n",
            "[100.0, 63.0]\n"
          ]
        }
      ]
    },
    {
      "cell_type": "markdown",
      "source": [
        "## Grade Finder\n",
        "This function finds the student who got the set grade"
      ],
      "metadata": {
        "id": "vJkQK1KzQQYE"
      }
    },
    {
      "cell_type": "code",
      "source": [
        "def names_from_grade(rows, grade, course):\n",
        "  names = []\n",
        "  i = index(fields,course)\n",
        "  first_name_index = index(fields,\"name\")\n",
        "  last_name_index = index(fields,\"last name \")\n",
        "  if i != None:\n",
        "    for r in rows:\n",
        "      if float(r[i]) == grade:\n",
        "        name = r[first_name_index] +' '+ r[last_name_index]\n",
        "        names.append(name)\n",
        "    return names\n",
        "  return 'No student got this grade'\n",
        "\n",
        "print(names_from_grade(rows, 80, 'Physics')) ##<---CHANGE SET GRADE BY CHANGING THE NUMBER :)"
      ],
      "metadata": {
        "colab": {
          "base_uri": "https://localhost:8080/"
        },
        "id": "-A1jumGQQW99",
        "outputId": "859b5c12-fb2b-4444-f9bf-4198db704d5e"
      },
      "execution_count": null,
      "outputs": [
        {
          "output_type": "stream",
          "name": "stdout",
          "text": [
            "['Sim Foo']\n"
          ]
        }
      ]
    },
    {
      "cell_type": "markdown",
      "source": [
        "## Find the average grade for a given course"
      ],
      "metadata": {
        "id": "Q1qMa1TEYGeA"
      }
    },
    {
      "cell_type": "code",
      "source": [
        "def index(fields, course):\n",
        "  for i in range(0,(len(fields))):\n",
        "   if course.lower() == fields[i].lower():\n",
        "    return i\n",
        "  return None\n",
        "\n",
        "def avg(rows,course):\n",
        "  sum = 0\n",
        "  i = index(fields,course)\n",
        "  if i != None:\n",
        "    for r in rows:\n",
        "      if r[i].isnumeric():\n",
        "        sum += int(r[i])\n",
        "    sum = sum / len(rows)\n",
        "  return sum\n",
        "print(avg(rows,\"math\"))##<-------CHANGE COURSE OR SUBJECT HERE :)"
      ],
      "metadata": {
        "colab": {
          "base_uri": "https://localhost:8080/"
        },
        "id": "-k_oAn1KYIka",
        "outputId": "6145d910-d204-4ed5-cfec-6a5736ecbee5"
      },
      "execution_count": null,
      "outputs": [
        {
          "output_type": "stream",
          "name": "stdout",
          "text": [
            "78.75\n"
          ]
        }
      ]
    },
    {
      "cell_type": "markdown",
      "source": [
        "## Highest average course"
      ],
      "metadata": {
        "id": "lqWlCrqGYHSn"
      }
    },
    {
      "cell_type": "code",
      "source": [
        "courses = ['Math', 'Physics', 'IT', 'English']## <--------- CHANGE COURSES HERE ACCORDINGLY\n",
        "def find_highest_avg(rows, courses):\n",
        "  highest_avg = [None, 0.0]\n",
        "  for course in courses:\n",
        "    tavg = avg(rows, course)\n",
        "    if tavg > highest_avg[1]:\n",
        "      highest_avg[0] = course\n",
        "      highest_avg[1] = tavg\n",
        "  return highest_avg\n",
        "print(find_highest_avg(rows, courses))"
      ],
      "metadata": {
        "id": "uWkX-oczYJfw",
        "colab": {
          "base_uri": "https://localhost:8080/"
        },
        "outputId": "b053ca4e-4125-4b3f-da46-0fbfe1868915"
      },
      "execution_count": null,
      "outputs": [
        {
          "output_type": "stream",
          "name": "stdout",
          "text": [
            "['IT', 93.5]\n"
          ]
        }
      ]
    },
    {
      "cell_type": "markdown",
      "source": [
        "## Lowest average course"
      ],
      "metadata": {
        "id": "K-CK3mt0YGdU"
      }
    },
    {
      "cell_type": "code",
      "source": [
        "courses = ['Math', 'Physics', 'IT', 'English']## <--------- CHANGE COURSES HERE ACCORDINGLY\n",
        "def find_lowest_avg(rows, courses):\n",
        "  lowest_avg = [None, 100.0]\n",
        "  for course in courses:\n",
        "    eavg = avg(rows,course)\n",
        "    if eavg < lowest_avg[1]:\n",
        "      lowest_avg[0] = course\n",
        "      lowest_avg[1] = eavg\n",
        "  return lowest_avg\n",
        "print(find_lowest_avg(rows,courses))"
      ],
      "metadata": {
        "id": "ono-uXVWYKKp",
        "colab": {
          "base_uri": "https://localhost:8080/"
        },
        "outputId": "ed818d70-6330-4ff5-b5c7-f69df72784dd"
      },
      "execution_count": null,
      "outputs": [
        {
          "output_type": "stream",
          "name": "stdout",
          "text": [
            "['English', 70.5]\n"
          ]
        }
      ]
    },
    {
      "cell_type": "markdown",
      "source": [
        "avg grade for a given name and last name"
      ],
      "metadata": {
        "id": "Ei6NQ3quYGbv"
      }
    },
    {
      "cell_type": "code",
      "source": [
        "# get the row for a given name\n",
        "def row_given_name(rows, first_name, last_name):\n",
        "  for r in rows:\n",
        "   if first_name.lower() == r[0].lower() and last_name.lower() == r[1].lower():\n",
        "    return r\n",
        "  return None\n",
        "\n",
        "print(row_given_name(rows, 'Ahmad', 'Hamdan'))\n"
      ],
      "metadata": {
        "colab": {
          "base_uri": "https://localhost:8080/"
        },
        "id": "pbKZ6NUXkQg5",
        "outputId": "fdb07356-1ab5-4fda-b730-c65b25046f1c"
      },
      "execution_count": null,
      "outputs": [
        {
          "output_type": "stream",
          "name": "stdout",
          "text": [
            "['Ahmad', 'Hamdan', 'a.hamdan@school.edu', '80', '75', '87', '50']\n"
          ]
        }
      ]
    },
    {
      "cell_type": "code",
      "source": [
        "courses = ['Math', 'Physics', 'IT', 'English']## <--------- CHANGE COURSES HERE ACCORDINGLY\n",
        "def student_avg_grade(first_name, last_name, rows, courses):\n",
        "  sum = 0\n",
        "  r = row_given_name(rows, first_name, last_name)\n",
        "  if r != None:\n",
        "    for i in r:\n",
        "      if i.isnumeric():\n",
        "        sum += float(i)\n",
        "    avg = sum / len(courses)\n",
        "    return avg\n",
        "  return f'{first_name} {last_name} does not exist'\n",
        "\n",
        "print(student_avg_grade('Mark', 'Cuban', rows, courses))\n",
        "\n",
        "\n",
        "\n"
      ],
      "metadata": {
        "id": "OSgnkGS5YKqe",
        "colab": {
          "base_uri": "https://localhost:8080/"
        },
        "outputId": "aa50f6c1-688e-4a85-f146-fe68e8a7882a"
      },
      "execution_count": null,
      "outputs": [
        {
          "output_type": "stream",
          "name": "stdout",
          "text": [
            "79.0\n"
          ]
        }
      ]
    }
  ]
}